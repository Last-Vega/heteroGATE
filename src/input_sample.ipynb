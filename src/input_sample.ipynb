{
 "cells": [
  {
   "attachments": {},
   "cell_type": "markdown",
   "metadata": {},
   "source": [
    "- https://cpp-learning.com/pytorch-geometric/"
   ]
  },
  {
   "cell_type": "code",
   "execution_count": 1,
   "metadata": {},
   "outputs": [],
   "source": [
    "import torch\n",
    "from torch_geometric.data import Data"
   ]
  },
  {
   "cell_type": "code",
   "execution_count": 2,
   "metadata": {},
   "outputs": [],
   "source": [
    "# ノード\n",
    "src = [0, 1, 2]  # 送信側\n",
    "dst = [1, 2, 1]  # 受信側\n",
    "\n",
    "# エッジ\n",
    "edge_index = torch.tensor([src, dst], dtype=torch.long)\n",
    "\n",
    "# ノードの特徴量\n",
    "x0 = [1, 2]\n",
    "x1 = [3, 4]\n",
    "x2 = [5, 6]\n",
    "x = torch.tensor([x0, x1, x2], dtype=torch.float)\n",
    "\n",
    "# ラベル\n",
    "y0 = [1]\n",
    "y1 = [0]\n",
    "y2 = [1]\n",
    "y = torch.tensor([y0, y1, y2], dtype=torch.float)\n",
    "\n",
    "data = Data(x=x, y=y, edge_index=edge_index)\n"
   ]
  },
  {
   "cell_type": "code",
   "execution_count": 3,
   "metadata": {},
   "outputs": [],
   "source": [
    "def check_graph(data):\n",
    "    '''グラフ情報を表示'''\n",
    "    print(\"グラフ構造:\", data)\n",
    "    print(\"グラフのキー: \", data.keys)\n",
    "    print(\"ノード数:\", data.num_nodes)\n",
    "    print(\"エッジ数:\", data.num_edges)\n",
    "    print(\"ノードの特徴量数:\", data.num_node_features)\n",
    "    print(\"孤立したノードの有無:\", data.contains_isolated_nodes())\n",
    "    print(\"自己ループの有無:\", data.contains_self_loops())\n",
    "    print(\"====== ノードの特徴量:x ======\")\n",
    "    print(data['x'])\n",
    "    print(\"====== ノードのクラス:y ======\")\n",
    "    print(data['y'])\n",
    "    print(\"========= エッジ形状 =========\")\n",
    "    print(data['edge_index'])"
   ]
  },
  {
   "cell_type": "code",
   "execution_count": 4,
   "metadata": {},
   "outputs": [
    {
     "name": "stdout",
     "output_type": "stream",
     "text": [
      "グラフ構造: Data(x=[3, 2], edge_index=[2, 3], y=[3, 1])\n",
      "グラフのキー:  ['x', 'edge_index', 'y']\n",
      "ノード数: 3\n",
      "エッジ数: 3\n",
      "ノードの特徴量数: 2\n",
      "孤立したノードの有無: False\n",
      "自己ループの有無: False\n",
      "====== ノードの特徴量:x ======\n",
      "tensor([[1., 2.],\n",
      "        [3., 4.],\n",
      "        [5., 6.]])\n",
      "====== ノードのクラス:y ======\n",
      "tensor([[1.],\n",
      "        [0.],\n",
      "        [1.]])\n",
      "========= エッジ形状 =========\n",
      "tensor([[0, 1, 2],\n",
      "        [1, 2, 1]])\n"
     ]
    },
    {
     "name": "stderr",
     "output_type": "stream",
     "text": [
      "/Users/WatanabeShingo/opt/anaconda3/lib/python3.9/site-packages/torch_geometric/deprecation.py:12: UserWarning: 'contains_isolated_nodes' is deprecated, use 'has_isolated_nodes' instead\n",
      "  warnings.warn(out)\n",
      "/Users/WatanabeShingo/opt/anaconda3/lib/python3.9/site-packages/torch_geometric/deprecation.py:12: UserWarning: 'contains_self_loops' is deprecated, use 'has_self_loops' instead\n",
      "  warnings.warn(out)\n"
     ]
    }
   ],
   "source": [
    "check_graph(data)"
   ]
  },
  {
   "cell_type": "code",
   "execution_count": null,
   "metadata": {},
   "outputs": [],
   "source": []
  }
 ],
 "metadata": {
  "kernelspec": {
   "display_name": "base",
   "language": "python",
   "name": "python3"
  },
  "language_info": {
   "codemirror_mode": {
    "name": "ipython",
    "version": 3
   },
   "file_extension": ".py",
   "mimetype": "text/x-python",
   "name": "python",
   "nbconvert_exporter": "python",
   "pygments_lexer": "ipython3",
   "version": "3.9.7"
  },
  "orig_nbformat": 4,
  "vscode": {
   "interpreter": {
    "hash": "1ac4fe529b20f18dda9e8ac5679a5dcf874aac7c500d2352fb2984e112a5732f"
   }
  }
 },
 "nbformat": 4,
 "nbformat_minor": 2
}
